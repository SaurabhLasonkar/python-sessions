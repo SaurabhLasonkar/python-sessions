{
 "cells": [
  {
   "cell_type": "code",
   "execution_count": 1,
   "id": "3a0a1718",
   "metadata": {},
   "outputs": [
    {
     "data": {
      "text/plain": [
       "int"
      ]
     },
     "execution_count": 1,
     "metadata": {},
     "output_type": "execute_result"
    }
   ],
   "source": [
    "a = 100\n",
    "type(a)"
   ]
  },
  {
   "cell_type": "code",
   "execution_count": 3,
   "id": "ee64d4ab",
   "metadata": {},
   "outputs": [
    {
     "data": {
      "text/plain": [
       "100.0"
      ]
     },
     "execution_count": 3,
     "metadata": {},
     "output_type": "execute_result"
    }
   ],
   "source": [
    "float(a)"
   ]
  },
  {
   "cell_type": "code",
   "execution_count": 4,
   "id": "c6beedb1",
   "metadata": {},
   "outputs": [
    {
     "data": {
      "text/plain": [
       "True"
      ]
     },
     "execution_count": 4,
     "metadata": {},
     "output_type": "execute_result"
    }
   ],
   "source": [
    "bool(a)"
   ]
  },
  {
   "cell_type": "code",
   "execution_count": 5,
   "id": "a8ee4cda",
   "metadata": {},
   "outputs": [
    {
     "data": {
      "text/plain": [
       "(100+0j)"
      ]
     },
     "execution_count": 5,
     "metadata": {},
     "output_type": "execute_result"
    }
   ],
   "source": [
    "complex(a)"
   ]
  },
  {
   "cell_type": "markdown",
   "id": "cb26fd8e",
   "metadata": {},
   "source": [
    "**Float to other data type conversion**"
   ]
  },
  {
   "cell_type": "code",
   "execution_count": 6,
   "id": "72a85d3b",
   "metadata": {},
   "outputs": [
    {
     "data": {
      "text/plain": [
       "float"
      ]
     },
     "execution_count": 6,
     "metadata": {},
     "output_type": "execute_result"
    }
   ],
   "source": [
    "b = 20.5\n",
    "type(b)"
   ]
  },
  {
   "cell_type": "code",
   "execution_count": 7,
   "id": "1c84a77b",
   "metadata": {},
   "outputs": [
    {
     "data": {
      "text/plain": [
       "20"
      ]
     },
     "execution_count": 7,
     "metadata": {},
     "output_type": "execute_result"
    }
   ],
   "source": [
    "int(b)"
   ]
  },
  {
   "cell_type": "code",
   "execution_count": 8,
   "id": "f826fb23",
   "metadata": {},
   "outputs": [
    {
     "data": {
      "text/plain": [
       "True"
      ]
     },
     "execution_count": 8,
     "metadata": {},
     "output_type": "execute_result"
    }
   ],
   "source": [
    "bool(b)"
   ]
  },
  {
   "cell_type": "code",
   "execution_count": 9,
   "id": "495c5efd",
   "metadata": {},
   "outputs": [
    {
     "data": {
      "text/plain": [
       "(20.5+0j)"
      ]
     },
     "execution_count": 9,
     "metadata": {},
     "output_type": "execute_result"
    }
   ],
   "source": [
    "complex(b)"
   ]
  },
  {
   "cell_type": "markdown",
   "id": "5a1313c0",
   "metadata": {},
   "source": [
    "**Coplex to other data type conversion**"
   ]
  },
  {
   "cell_type": "code",
   "execution_count": 10,
   "id": "712ffaf9",
   "metadata": {},
   "outputs": [
    {
     "data": {
      "text/plain": [
       "complex"
      ]
     },
     "execution_count": 10,
     "metadata": {},
     "output_type": "execute_result"
    }
   ],
   "source": [
    "c = 1+2j\n",
    "type(c)"
   ]
  },
  {
   "cell_type": "code",
   "execution_count": 11,
   "id": "12f92143",
   "metadata": {},
   "outputs": [
    {
     "ename": "TypeError",
     "evalue": "int() argument must be a string, a bytes-like object or a real number, not 'complex'",
     "output_type": "error",
     "traceback": [
      "\u001b[1;31m---------------------------------------------------------------------------\u001b[0m",
      "\u001b[1;31mTypeError\u001b[0m                                 Traceback (most recent call last)",
      "Cell \u001b[1;32mIn[11], line 1\u001b[0m\n\u001b[1;32m----> 1\u001b[0m \u001b[38;5;28mint\u001b[39m(c)\n",
      "\u001b[1;31mTypeError\u001b[0m: int() argument must be a string, a bytes-like object or a real number, not 'complex'"
     ]
    }
   ],
   "source": [
    "int(c)"
   ]
  },
  {
   "cell_type": "code",
   "execution_count": 12,
   "id": "31e2a40d",
   "metadata": {},
   "outputs": [
    {
     "ename": "TypeError",
     "evalue": "float() argument must be a string or a real number, not 'complex'",
     "output_type": "error",
     "traceback": [
      "\u001b[1;31m---------------------------------------------------------------------------\u001b[0m",
      "\u001b[1;31mTypeError\u001b[0m                                 Traceback (most recent call last)",
      "Cell \u001b[1;32mIn[12], line 1\u001b[0m\n\u001b[1;32m----> 1\u001b[0m \u001b[38;5;28mfloat\u001b[39m(c)\n",
      "\u001b[1;31mTypeError\u001b[0m: float() argument must be a string or a real number, not 'complex'"
     ]
    }
   ],
   "source": [
    "float(c)"
   ]
  },
  {
   "cell_type": "code",
   "execution_count": 13,
   "id": "1494343b",
   "metadata": {},
   "outputs": [
    {
     "data": {
      "text/plain": [
       "(1+2j)"
      ]
     },
     "execution_count": 13,
     "metadata": {},
     "output_type": "execute_result"
    }
   ],
   "source": [
    "complex(c)"
   ]
  },
  {
   "cell_type": "code",
   "execution_count": 14,
   "id": "7080355a",
   "metadata": {},
   "outputs": [
    {
     "data": {
      "text/plain": [
       "True"
      ]
     },
     "execution_count": 14,
     "metadata": {},
     "output_type": "execute_result"
    }
   ],
   "source": [
    "bool(c)"
   ]
  },
  {
   "cell_type": "markdown",
   "id": "d9b9b0f9",
   "metadata": {},
   "source": [
    "**String to other data type conversion**"
   ]
  },
  {
   "cell_type": "code",
   "execution_count": 15,
   "id": "8f1d71c0",
   "metadata": {},
   "outputs": [
    {
     "data": {
      "text/plain": [
       "str"
      ]
     },
     "execution_count": 15,
     "metadata": {},
     "output_type": "execute_result"
    }
   ],
   "source": [
    "s1 = 'Saurabh'\n",
    "type(s1)"
   ]
  },
  {
   "cell_type": "code",
   "execution_count": 16,
   "id": "91f337cd",
   "metadata": {},
   "outputs": [
    {
     "ename": "ValueError",
     "evalue": "invalid literal for int() with base 10: 'Saurabh'",
     "output_type": "error",
     "traceback": [
      "\u001b[1;31m---------------------------------------------------------------------------\u001b[0m",
      "\u001b[1;31mValueError\u001b[0m                                Traceback (most recent call last)",
      "Cell \u001b[1;32mIn[16], line 1\u001b[0m\n\u001b[1;32m----> 1\u001b[0m \u001b[38;5;28mint\u001b[39m(s1)\n",
      "\u001b[1;31mValueError\u001b[0m: invalid literal for int() with base 10: 'Saurabh'"
     ]
    }
   ],
   "source": [
    "int(s1)"
   ]
  },
  {
   "cell_type": "code",
   "execution_count": 17,
   "id": "a6258702",
   "metadata": {},
   "outputs": [
    {
     "ename": "ValueError",
     "evalue": "could not convert string to float: 'Saurabh'",
     "output_type": "error",
     "traceback": [
      "\u001b[1;31m---------------------------------------------------------------------------\u001b[0m",
      "\u001b[1;31mValueError\u001b[0m                                Traceback (most recent call last)",
      "Cell \u001b[1;32mIn[17], line 1\u001b[0m\n\u001b[1;32m----> 1\u001b[0m \u001b[38;5;28mfloat\u001b[39m(s1)\n",
      "\u001b[1;31mValueError\u001b[0m: could not convert string to float: 'Saurabh'"
     ]
    }
   ],
   "source": [
    "float(s1)"
   ]
  },
  {
   "cell_type": "code",
   "execution_count": 18,
   "id": "e575d159",
   "metadata": {},
   "outputs": [
    {
     "ename": "ValueError",
     "evalue": "complex() arg is a malformed string",
     "output_type": "error",
     "traceback": [
      "\u001b[1;31m---------------------------------------------------------------------------\u001b[0m",
      "\u001b[1;31mValueError\u001b[0m                                Traceback (most recent call last)",
      "Cell \u001b[1;32mIn[18], line 1\u001b[0m\n\u001b[1;32m----> 1\u001b[0m \u001b[38;5;28mcomplex\u001b[39m(s1)\n",
      "\u001b[1;31mValueError\u001b[0m: complex() arg is a malformed string"
     ]
    }
   ],
   "source": [
    "complex(s1)"
   ]
  },
  {
   "cell_type": "code",
   "execution_count": 19,
   "id": "2a671d3a",
   "metadata": {},
   "outputs": [
    {
     "data": {
      "text/plain": [
       "True"
      ]
     },
     "execution_count": 19,
     "metadata": {},
     "output_type": "execute_result"
    }
   ],
   "source": [
    "bool(s1)"
   ]
  },
  {
   "cell_type": "code",
   "execution_count": 20,
   "id": "8f2c9cc7",
   "metadata": {},
   "outputs": [
    {
     "data": {
      "text/plain": [
       "str"
      ]
     },
     "execution_count": 20,
     "metadata": {},
     "output_type": "execute_result"
    }
   ],
   "source": [
    "s2 = \"10\"\n",
    "type(s2)"
   ]
  },
  {
   "cell_type": "code",
   "execution_count": 21,
   "id": "6d5ddda5",
   "metadata": {},
   "outputs": [
    {
     "data": {
      "text/plain": [
       "10"
      ]
     },
     "execution_count": 21,
     "metadata": {},
     "output_type": "execute_result"
    }
   ],
   "source": [
    "int(s2)"
   ]
  },
  {
   "cell_type": "code",
   "execution_count": 22,
   "id": "e1a51d63",
   "metadata": {},
   "outputs": [
    {
     "data": {
      "text/plain": [
       "10.0"
      ]
     },
     "execution_count": 22,
     "metadata": {},
     "output_type": "execute_result"
    }
   ],
   "source": [
    "float(s2)"
   ]
  },
  {
   "cell_type": "code",
   "execution_count": 23,
   "id": "76254da8",
   "metadata": {},
   "outputs": [
    {
     "data": {
      "text/plain": [
       "(10+0j)"
      ]
     },
     "execution_count": 23,
     "metadata": {},
     "output_type": "execute_result"
    }
   ],
   "source": [
    "complex(s2)"
   ]
  },
  {
   "cell_type": "code",
   "execution_count": 24,
   "id": "61080394",
   "metadata": {},
   "outputs": [
    {
     "data": {
      "text/plain": [
       "True"
      ]
     },
     "execution_count": 24,
     "metadata": {},
     "output_type": "execute_result"
    }
   ],
   "source": [
    "bool(s2)"
   ]
  },
  {
   "cell_type": "code",
   "execution_count": 25,
   "id": "106f6b9e",
   "metadata": {},
   "outputs": [
    {
     "ename": "ValueError",
     "evalue": "invalid literal for int() with base 10: '10.5'",
     "output_type": "error",
     "traceback": [
      "\u001b[1;31m---------------------------------------------------------------------------\u001b[0m",
      "\u001b[1;31mValueError\u001b[0m                                Traceback (most recent call last)",
      "Cell \u001b[1;32mIn[25], line 2\u001b[0m\n\u001b[0;32m      1\u001b[0m s3 \u001b[38;5;241m=\u001b[39m \u001b[38;5;124m\"\u001b[39m\u001b[38;5;124m10.5\u001b[39m\u001b[38;5;124m\"\u001b[39m\n\u001b[1;32m----> 2\u001b[0m \u001b[38;5;28mint\u001b[39m(s3)\n",
      "\u001b[1;31mValueError\u001b[0m: invalid literal for int() with base 10: '10.5'"
     ]
    }
   ],
   "source": [
    "s3 = \"10.5\"\n",
    "int(s3)"
   ]
  },
  {
   "cell_type": "code",
   "execution_count": 26,
   "id": "ebc766a0",
   "metadata": {},
   "outputs": [
    {
     "data": {
      "text/plain": [
       "(10.5+0j)"
      ]
     },
     "execution_count": 26,
     "metadata": {},
     "output_type": "execute_result"
    }
   ],
   "source": [
    "complex(s3)"
   ]
  },
  {
   "cell_type": "code",
   "execution_count": 27,
   "id": "eafbde39",
   "metadata": {},
   "outputs": [
    {
     "data": {
      "text/plain": [
       "True"
      ]
     },
     "execution_count": 27,
     "metadata": {},
     "output_type": "execute_result"
    }
   ],
   "source": [
    "bool(s3)"
   ]
  },
  {
   "cell_type": "markdown",
   "id": "e4763e70",
   "metadata": {},
   "source": [
    "## Print  statement"
   ]
  },
  {
   "cell_type": "code",
   "execution_count": 28,
   "id": "7d59aceb",
   "metadata": {},
   "outputs": [
    {
     "name": "stdout",
     "output_type": "stream",
     "text": [
      "20\n",
      "40\n"
     ]
    }
   ],
   "source": [
    "a = 20\n",
    "b = 40\n",
    "print(a)\n",
    "print(b)"
   ]
  },
  {
   "cell_type": "code",
   "execution_count": 29,
   "id": "b16e855c",
   "metadata": {},
   "outputs": [
    {
     "name": "stdout",
     "output_type": "stream",
     "text": [
      "Hi How are you ?\n"
     ]
    }
   ],
   "source": [
    "print(\"Hi\",end=' ')\n",
    "print(\"How are you ?\")\n"
   ]
  },
  {
   "cell_type": "code",
   "execution_count": 31,
   "id": "65cefc66",
   "metadata": {},
   "outputs": [
    {
     "name": "stdout",
     "output_type": "stream",
     "text": [
      "Hi how are you\n"
     ]
    }
   ],
   "source": [
    "print(\"Hi\",end='')\n",
    "print(\" how\",end=' ')\n",
    "print(\"are\",end=' ')\n",
    "print(\"you\")"
   ]
  },
  {
   "cell_type": "code",
   "execution_count": 34,
   "id": "b589801b",
   "metadata": {},
   "outputs": [
    {
     "name": "stdout",
     "output_type": "stream",
     "text": [
      "The addition of  100 and 500  is  600\n"
     ]
    }
   ],
   "source": [
    "num1 = 100\n",
    "num2 = 500\n",
    "add=num1+num2\n",
    "print(\"The addition of \",num1, \"and\",num2,\" is \",add)"
   ]
  },
  {
   "cell_type": "code",
   "execution_count": 35,
   "id": "347a2ed9",
   "metadata": {},
   "outputs": [
    {
     "name": "stdout",
     "output_type": "stream",
     "text": [
      "The multiplication of 20 and 30 is 600\n"
     ]
    }
   ],
   "source": [
    "a = 20\n",
    "b = 30\n",
    "mul=a*b\n",
    "print(\"The multiplication of\",a,\"and\",b,\"is\",mul)"
   ]
  },
  {
   "cell_type": "code",
   "execution_count": 37,
   "id": "0985a1cb",
   "metadata": {},
   "outputs": [
    {
     "name": "stdout",
     "output_type": "stream",
     "text": [
      "The multiplication of 20 and 30 is 600\n"
     ]
    }
   ],
   "source": [
    "print(\"The multiplication of {} and {} is {}\".format(a,b,mul))"
   ]
  },
  {
   "cell_type": "code",
   "execution_count": 38,
   "id": "09cab489",
   "metadata": {},
   "outputs": [
    {
     "name": "stdout",
     "output_type": "stream",
     "text": [
      "The addition of 100 and 200 is 300\n"
     ]
    }
   ],
   "source": [
    "n1 = 100\n",
    "n2 = 200\n",
    "add=n1+n2\n",
    "print(\"The addition of {} and {} is {}\".format(n1,n2,add))"
   ]
  },
  {
   "cell_type": "code",
   "execution_count": 39,
   "id": "70375d29",
   "metadata": {},
   "outputs": [
    {
     "name": "stdout",
     "output_type": "stream",
     "text": [
      "My name is python,I lives in hyderabad,and my age is 30\n"
     ]
    }
   ],
   "source": [
    "name = 'python'\n",
    "city= 'hyderabad'\n",
    "age = 30\n",
    "print( \"My name is {},I lives in {},and my age is {}\".format(name,city,age))"
   ]
  },
  {
   "cell_type": "code",
   "execution_count": 40,
   "id": "d793a296",
   "metadata": {},
   "outputs": [
    {
     "name": "stdout",
     "output_type": "stream",
     "text": [
      "100\n"
     ]
    },
    {
     "data": {
      "text/plain": [
       "'100'"
      ]
     },
     "execution_count": 40,
     "metadata": {},
     "output_type": "execute_result"
    }
   ],
   "source": [
    "input()      #input from the ikeyboard"
   ]
  },
  {
   "cell_type": "code",
   "execution_count": null,
   "id": "a17b51f1",
   "metadata": {},
   "outputs": [],
   "source": []
  }
 ],
 "metadata": {
  "kernelspec": {
   "display_name": "Python 3 (ipykernel)",
   "language": "python",
   "name": "python3"
  },
  "language_info": {
   "codemirror_mode": {
    "name": "ipython",
    "version": 3
   },
   "file_extension": ".py",
   "mimetype": "text/x-python",
   "name": "python",
   "nbconvert_exporter": "python",
   "pygments_lexer": "ipython3",
   "version": "3.11.5"
  }
 },
 "nbformat": 4,
 "nbformat_minor": 5
}
