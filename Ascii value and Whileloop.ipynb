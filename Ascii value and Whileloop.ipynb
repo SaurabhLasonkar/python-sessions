{
 "cells": [
  {
   "cell_type": "markdown",
   "id": "759acc3d",
   "metadata": {},
   "source": [
    "### ASCII value"
   ]
  },
  {
   "cell_type": "code",
   "execution_count": null,
   "id": "762ca75f",
   "metadata": {},
   "outputs": [],
   "source": [
    "'a' #ascii ---> American standard code information \n",
    "            # interchange\n",
    "A=65\n",
    "a=97"
   ]
  },
  {
   "cell_type": "markdown",
   "id": "388439a9",
   "metadata": {},
   "source": [
    "- ord()      # it is keyword gives you ascii value"
   ]
  },
  {
   "cell_type": "code",
   "execution_count": 1,
   "id": "ad44ad4b",
   "metadata": {},
   "outputs": [
    {
     "data": {
      "text/plain": [
       "65"
      ]
     },
     "execution_count": 1,
     "metadata": {},
     "output_type": "execute_result"
    }
   ],
   "source": [
    "ord('A')"
   ]
  },
  {
   "cell_type": "code",
   "execution_count": 2,
   "id": "3f495fa8",
   "metadata": {},
   "outputs": [
    {
     "data": {
      "text/plain": [
       "False"
      ]
     },
     "execution_count": 2,
     "metadata": {},
     "output_type": "execute_result"
    }
   ],
   "source": [
    "'Apple'>'apple'\n",
    "# 'A' :65\n",
    "# 'a' :97\n",
    "#'a' >'A'"
   ]
  },
  {
   "cell_type": "code",
   "execution_count": 5,
   "id": "aea6a1c6",
   "metadata": {},
   "outputs": [
    {
     "data": {
      "text/plain": [
       "True"
      ]
     },
     "execution_count": 5,
     "metadata": {},
     "output_type": "execute_result"
    }
   ],
   "source": [
    "'Apple' > 'APPLE'\n",
    "# A and A is same go to next\n",
    "# p and P check ascii value using ord keyword\n",
    "# 112 > 80"
   ]
  },
  {
   "cell_type": "code",
   "execution_count": 4,
   "id": "eedcc6c4",
   "metadata": {},
   "outputs": [
    {
     "data": {
      "text/plain": [
       "(112, 80)"
      ]
     },
     "execution_count": 4,
     "metadata": {},
     "output_type": "execute_result"
    }
   ],
   "source": [
    "ord('p'),ord('P')"
   ]
  },
  {
   "cell_type": "markdown",
   "id": "927c42bb",
   "metadata": {},
   "source": [
    "$Chr$"
   ]
  },
  {
   "cell_type": "code",
   "execution_count": 7,
   "id": "d5f294f6",
   "metadata": {},
   "outputs": [
    {
     "data": {
      "text/plain": [
       "'A'"
      ]
     },
     "execution_count": 7,
     "metadata": {},
     "output_type": "execute_result"
    }
   ],
   "source": [
    "chr(65) #It will give you character value"
   ]
  },
  {
   "cell_type": "code",
   "execution_count": null,
   "id": "f788afcc",
   "metadata": {},
   "outputs": [],
   "source": [
    "#Use forloop in range\n",
    "# Ascii : where it will start "
   ]
  },
  {
   "cell_type": "code",
   "execution_count": 28,
   "id": "d7e48e16",
   "metadata": {},
   "outputs": [
    {
     "name": "stdout",
     "output_type": "stream",
     "text": [
      "33 -----> !\n",
      "34 -----> \"\n",
      "35 -----> #\n",
      "36 -----> $\n",
      "37 -----> %\n",
      "38 -----> &\n",
      "39 -----> '\n",
      "40 -----> (\n",
      "41 -----> )\n",
      "42 -----> *\n",
      "43 -----> +\n",
      "44 -----> ,\n",
      "45 -----> -\n",
      "46 -----> .\n",
      "47 -----> /\n",
      "48 -----> 0\n",
      "49 -----> 1\n",
      "50 -----> 2\n",
      "51 -----> 3\n",
      "52 -----> 4\n",
      "53 -----> 5\n",
      "54 -----> 6\n",
      "55 -----> 7\n",
      "56 -----> 8\n",
      "57 -----> 9\n",
      "58 -----> :\n",
      "59 -----> ;\n",
      "60 -----> <\n",
      "61 -----> =\n",
      "62 -----> >\n",
      "63 -----> ?\n",
      "64 -----> @\n",
      "65 -----> A\n",
      "66 -----> B\n",
      "67 -----> C\n",
      "68 -----> D\n",
      "69 -----> E\n",
      "70 -----> F\n",
      "71 -----> G\n",
      "72 -----> H\n",
      "73 -----> I\n",
      "74 -----> J\n",
      "75 -----> K\n",
      "76 -----> L\n",
      "77 -----> M\n",
      "78 -----> N\n",
      "79 -----> O\n",
      "80 -----> P\n",
      "81 -----> Q\n",
      "82 -----> R\n",
      "83 -----> S\n",
      "84 -----> T\n",
      "85 -----> U\n",
      "86 -----> V\n",
      "87 -----> W\n",
      "88 -----> X\n",
      "89 -----> Y\n",
      "90 -----> Z\n",
      "91 -----> [\n",
      "92 -----> \\\n",
      "93 -----> ]\n",
      "94 -----> ^\n",
      "95 -----> _\n",
      "96 -----> `\n",
      "97 -----> a\n",
      "98 -----> b\n",
      "99 -----> c\n",
      "100 -----> d\n",
      "101 -----> e\n",
      "102 -----> f\n",
      "103 -----> g\n",
      "104 -----> h\n",
      "105 -----> i\n",
      "106 -----> j\n",
      "107 -----> k\n",
      "108 -----> l\n",
      "109 -----> m\n",
      "110 -----> n\n",
      "111 -----> o\n",
      "112 -----> p\n",
      "113 -----> q\n",
      "114 -----> r\n",
      "115 -----> s\n",
      "116 -----> t\n",
      "117 -----> u\n",
      "118 -----> v\n",
      "119 -----> w\n",
      "120 -----> x\n",
      "121 -----> y\n",
      "122 -----> z\n",
      "123 -----> {\n",
      "124 -----> |\n",
      "125 -----> }\n",
      "126 -----> ~\n"
     ]
    }
   ],
   "source": [
    "for i in range(33,127):\n",
    "    print(i,'----->',chr(i))"
   ]
  },
  {
   "cell_type": "code",
   "execution_count": 31,
   "id": "9e381b60",
   "metadata": {},
   "outputs": [
    {
     "name": "stdout",
     "output_type": "stream",
     "text": [
      "A ----> 65\n",
      "B ----> 66\n",
      "C ----> 67\n",
      "D ----> 68\n",
      "E ----> 69\n",
      "F ----> 70\n",
      "G ----> 71\n",
      "H ----> 72\n",
      "I ----> 73\n",
      "J ----> 74\n",
      "K ----> 75\n",
      "K ----> 75\n",
      "L ----> 76\n",
      "M ----> 77\n",
      "N ----> 78\n",
      "O ----> 79\n",
      "P ----> 80\n",
      "Q ----> 81\n",
      "R ----> 82\n",
      "S ----> 83\n",
      "T ----> 84\n",
      "U ----> 85\n",
      "V ----> 86\n",
      "W ----> 87\n",
      "X ----> 88\n",
      "Y ----> 89\n",
      "Z ----> 90\n"
     ]
    }
   ],
   "source": [
    "for i in 'ABCDEFGHIJKKLMNOPQRSTUVWXYZ':\n",
    "    print(i,'---->',ord(i))"
   ]
  },
  {
   "cell_type": "code",
   "execution_count": 32,
   "id": "f2f70279",
   "metadata": {},
   "outputs": [
    {
     "name": "stdout",
     "output_type": "stream",
     "text": [
      "a ----> 97\n",
      "b ----> 98\n",
      "c ----> 99\n",
      "d ----> 100\n",
      "e ----> 101\n",
      "f ----> 102\n",
      "g ----> 103\n",
      "h ----> 104\n",
      "i ----> 105\n",
      "j ----> 106\n",
      "k ----> 107\n",
      "l ----> 108\n",
      "m ----> 109\n",
      "n ----> 110\n",
      "o ----> 111\n",
      "p ----> 112\n",
      "q ----> 113\n",
      "r ----> 114\n",
      "s ----> 115\n",
      "t ----> 116\n",
      "u ----> 117\n",
      "v ----> 118\n",
      "w ----> 119\n",
      "x ----> 120\n",
      "y ----> 121\n",
      "z ----> 122\n"
     ]
    }
   ],
   "source": [
    "for i in 'abcdefghijklmnopqrstuvwxyz':\n",
    "    print(i,'---->',ord(i))"
   ]
  },
  {
   "cell_type": "markdown",
   "id": "17e2b4bf",
   "metadata": {},
   "source": [
    "***Package name : String package***"
   ]
  },
  {
   "cell_type": "code",
   "execution_count": 33,
   "id": "8895cbc2",
   "metadata": {},
   "outputs": [
    {
     "data": {
      "text/plain": [
       "['Formatter',\n",
       " 'Template',\n",
       " '_ChainMap',\n",
       " '__all__',\n",
       " '__builtins__',\n",
       " '__cached__',\n",
       " '__doc__',\n",
       " '__file__',\n",
       " '__loader__',\n",
       " '__name__',\n",
       " '__package__',\n",
       " '__spec__',\n",
       " '_re',\n",
       " '_sentinel_dict',\n",
       " '_string',\n",
       " 'ascii_letters',\n",
       " 'ascii_lowercase',\n",
       " 'ascii_uppercase',\n",
       " 'capwords',\n",
       " 'digits',\n",
       " 'hexdigits',\n",
       " 'octdigits',\n",
       " 'printable',\n",
       " 'punctuation',\n",
       " 'whitespace']"
      ]
     },
     "execution_count": 33,
     "metadata": {},
     "output_type": "execute_result"
    }
   ],
   "source": [
    "import string\n",
    "dir(string)"
   ]
  },
  {
   "cell_type": "code",
   "execution_count": 34,
   "id": "60f99c39",
   "metadata": {},
   "outputs": [
    {
     "data": {
      "text/plain": [
       "'abcdefghijklmnopqrstuvwxyzABCDEFGHIJKLMNOPQRSTUVWXYZ'"
      ]
     },
     "execution_count": 34,
     "metadata": {},
     "output_type": "execute_result"
    }
   ],
   "source": [
    "string.ascii_letters"
   ]
  },
  {
   "cell_type": "code",
   "execution_count": 35,
   "id": "26f9297c",
   "metadata": {},
   "outputs": [
    {
     "data": {
      "text/plain": [
       "'abcdefghijklmnopqrstuvwxyz'"
      ]
     },
     "execution_count": 35,
     "metadata": {},
     "output_type": "execute_result"
    }
   ],
   "source": [
    "string.ascii_lowercase"
   ]
  },
  {
   "cell_type": "code",
   "execution_count": 37,
   "id": "dc1bab9f",
   "metadata": {},
   "outputs": [
    {
     "data": {
      "text/plain": [
       "'ABCDEFGHIJKLMNOPQRSTUVWXYZ'"
      ]
     },
     "execution_count": 37,
     "metadata": {},
     "output_type": "execute_result"
    }
   ],
   "source": [
    "string.ascii_uppercase"
   ]
  },
  {
   "cell_type": "code",
   "execution_count": 36,
   "id": "27e1117c",
   "metadata": {},
   "outputs": [
    {
     "name": "stdout",
     "output_type": "stream",
     "text": [
      "a ----> 97\n",
      "b ----> 98\n",
      "c ----> 99\n",
      "d ----> 100\n",
      "e ----> 101\n",
      "f ----> 102\n",
      "g ----> 103\n",
      "h ----> 104\n",
      "i ----> 105\n",
      "j ----> 106\n",
      "k ----> 107\n",
      "l ----> 108\n",
      "m ----> 109\n",
      "n ----> 110\n",
      "o ----> 111\n",
      "p ----> 112\n",
      "q ----> 113\n",
      "r ----> 114\n",
      "s ----> 115\n",
      "t ----> 116\n",
      "u ----> 117\n",
      "v ----> 118\n",
      "w ----> 119\n",
      "x ----> 120\n",
      "y ----> 121\n",
      "z ----> 122\n"
     ]
    }
   ],
   "source": [
    "for i in string.ascii_lowercase:\n",
    "    print(i,'---->',ord(i))"
   ]
  },
  {
   "cell_type": "code",
   "execution_count": 49,
   "id": "e7411842",
   "metadata": {},
   "outputs": [
    {
     "data": {
      "text/plain": [
       "'A'"
      ]
     },
     "execution_count": 49,
     "metadata": {},
     "output_type": "execute_result"
    }
   ],
   "source": [
    "string.capwords('a')   #It is capitalised letters"
   ]
  },
  {
   "cell_type": "code",
   "execution_count": 40,
   "id": "33fdf2c8",
   "metadata": {},
   "outputs": [
    {
     "data": {
      "text/plain": [
       "'0123456789'"
      ]
     },
     "execution_count": 40,
     "metadata": {},
     "output_type": "execute_result"
    }
   ],
   "source": [
    "string.digits"
   ]
  },
  {
   "cell_type": "code",
   "execution_count": 41,
   "id": "bc66128b",
   "metadata": {},
   "outputs": [
    {
     "data": {
      "text/plain": [
       "'0123456789abcdefghijklmnopqrstuvwxyzABCDEFGHIJKLMNOPQRSTUVWXYZ!\"#$%&\\'()*+,-./:;<=>?@[\\\\]^_`{|}~ \\t\\n\\r\\x0b\\x0c'"
      ]
     },
     "execution_count": 41,
     "metadata": {},
     "output_type": "execute_result"
    }
   ],
   "source": [
    "string.printable"
   ]
  },
  {
   "cell_type": "code",
   "execution_count": 42,
   "id": "7e4d8227",
   "metadata": {},
   "outputs": [
    {
     "data": {
      "text/plain": [
       "'!\"#$%&\\'()*+,-./:;<=>?@[\\\\]^_`{|}~'"
      ]
     },
     "execution_count": 42,
     "metadata": {},
     "output_type": "execute_result"
    }
   ],
   "source": [
    "string.punctuation"
   ]
  },
  {
   "cell_type": "code",
   "execution_count": 43,
   "id": "b40f83c0",
   "metadata": {},
   "outputs": [
    {
     "data": {
      "text/plain": [
       "' \\t\\n\\r\\x0b\\x0c'"
      ]
     },
     "execution_count": 43,
     "metadata": {},
     "output_type": "execute_result"
    }
   ],
   "source": [
    "string.whitespace"
   ]
  },
  {
   "cell_type": "markdown",
   "id": "24b34a43",
   "metadata": {},
   "source": [
    "### While Loop"
   ]
  },
  {
   "cell_type": "code",
   "execution_count": 50,
   "id": "ea604ea0",
   "metadata": {},
   "outputs": [
    {
     "name": "stdout",
     "output_type": "stream",
     "text": [
      "1 2 3 4 5 6 7 8 9 "
     ]
    }
   ],
   "source": [
    "#print first 10 numbers\n",
    "for i in range(1,10):\n",
    "    print(i,end=' ')"
   ]
  },
  {
   "cell_type": "code",
   "execution_count": 52,
   "id": "915d0576",
   "metadata": {},
   "outputs": [
    {
     "name": "stdout",
     "output_type": "stream",
     "text": [
      "0 1 2 3 4 5 6 7 8 9 "
     ]
    }
   ],
   "source": [
    "i=0                    #initialisation\n",
    "while i<10:            #codition\n",
    "    print(i,end=' ')\n",
    "    i=i+1             #increment"
   ]
  },
  {
   "cell_type": "code",
   "execution_count": 62,
   "id": "045f814c",
   "metadata": {},
   "outputs": [
    {
     "name": "stdout",
     "output_type": "stream",
     "text": [
      "Hello Saurabh\n",
      "Hello Saurabh\n",
      "Hello Saurabh\n",
      "Hello Saurabh\n"
     ]
    }
   ],
   "source": [
    "n='Hello'\n",
    "i=0\n",
    "while i<=3:\n",
    "    print(n,\"Saurabh\")\n",
    "    i=i+1"
   ]
  },
  {
   "cell_type": "code",
   "execution_count": 66,
   "id": "e8a438dd",
   "metadata": {},
   "outputs": [
    {
     "name": "stdout",
     "output_type": "stream",
     "text": [
      "Squre of 1 is 1\n",
      "Squre of 2 is 4\n",
      "Squre of 3 is 9\n",
      "Squre of 4 is 16\n",
      "Squre of 5 is 25\n",
      "Squre of 6 is 36\n",
      "Squre of 7 is 49\n",
      "Squre of 8 is 64\n",
      "Squre of 9 is 81\n",
      "Squre of 10 is 100\n"
     ]
    }
   ],
   "source": [
    "i=1\n",
    "while i<=10:\n",
    "    print(\"Squre of {} is {}\".format(i,i*i))\n",
    "    i=i+1"
   ]
  },
  {
   "cell_type": "code",
   "execution_count": 74,
   "id": "cfb7f155",
   "metadata": {},
   "outputs": [
    {
     "name": "stdout",
     "output_type": "stream",
     "text": [
      "7 * 1 = 7\n",
      "7 * 2 = 14\n",
      "7 * 3 = 21\n",
      "7 * 4 = 28\n",
      "7 * 5 = 35\n",
      "7 * 6 = 42\n",
      "7 * 7 = 49\n",
      "7 * 8 = 56\n",
      "7 * 9 = 63\n",
      "7 * 10 = 70\n"
     ]
    }
   ],
   "source": [
    "i=1\n",
    "while i<=10:\n",
    "    print(\"{} * {} = {}\".format(7,i,7*i))\n",
    "    i=i+1"
   ]
  },
  {
   "cell_type": "code",
   "execution_count": 85,
   "id": "080e86e4",
   "metadata": {},
   "outputs": [
    {
     "name": "stdout",
     "output_type": "stream",
     "text": [
      "-10 -9 -8 -7 -6 -5 -4 -3 -2 -1 "
     ]
    }
   ],
   "source": [
    "i=-10\n",
    "while i<0:\n",
    "    print(i,end=' ')\n",
    "    i=i+1"
   ]
  },
  {
   "cell_type": "code",
   "execution_count": 92,
   "id": "666d9584",
   "metadata": {},
   "outputs": [
    {
     "name": "stdout",
     "output_type": "stream",
     "text": [
      "Enter a number :90\n",
      "90 is even number\n",
      "91 is odd number\n",
      "92 is even number\n",
      "93 is odd number\n",
      "94 is even number\n",
      "95 is odd number\n",
      "96 is even number\n",
      "97 is odd number\n",
      "98 is even number\n",
      "99 is odd number\n",
      "100 is even number\n"
     ]
    }
   ],
   "source": [
    "#Even odd number using while loop\n",
    "n=eval(input(\"Enter a number :\"))\n",
    "while n<=100:\n",
    "    if n%2==0:\n",
    "        print(\"{} is even number\".format(n))\n",
    "       \n",
    "    else :\n",
    "        print(\"{} is odd number\".format(n))\n",
    "    n=n+1\n",
    "        \n",
    "            "
   ]
  },
  {
   "cell_type": "code",
   "execution_count": 97,
   "id": "7fd76749",
   "metadata": {},
   "outputs": [
    {
     "name": "stdout",
     "output_type": "stream",
     "text": [
      "Enter a number :32\n",
      "32 * 1 = 32\n",
      "32 * 2 = 64\n",
      "32 * 3 = 96\n",
      "32 * 4 = 128\n",
      "32 * 5 = 160\n",
      "32 * 6 = 192\n",
      "32 * 7 = 224\n",
      "32 * 8 = 256\n",
      "32 * 9 = 288\n",
      "32 * 10 = 320\n"
     ]
    }
   ],
   "source": [
    "n=eval(input(\"Enter a number :\"))\n",
    "i=1\n",
    "while i<=10:\n",
    "    print(\"{} * {} = {}\".format(n,i,n*i))\n",
    "    i=i+1"
   ]
  },
  {
   "cell_type": "code",
   "execution_count": null,
   "id": "ad87d009",
   "metadata": {},
   "outputs": [],
   "source": []
  },
  {
   "cell_type": "code",
   "execution_count": null,
   "id": "eb80ebe9",
   "metadata": {},
   "outputs": [],
   "source": []
  }
 ],
 "metadata": {
  "kernelspec": {
   "display_name": "Python 3 (ipykernel)",
   "language": "python",
   "name": "python3"
  },
  "language_info": {
   "codemirror_mode": {
    "name": "ipython",
    "version": 3
   },
   "file_extension": ".py",
   "mimetype": "text/x-python",
   "name": "python",
   "nbconvert_exporter": "python",
   "pygments_lexer": "ipython3",
   "version": "3.11.5"
  }
 },
 "nbformat": 4,
 "nbformat_minor": 5
}
