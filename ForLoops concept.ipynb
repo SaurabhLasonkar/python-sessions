{
 "cells": [
  {
   "cell_type": "markdown",
   "id": "d34aaabc",
   "metadata": {},
   "source": [
    "***Loop concept***"
   ]
  },
  {
   "cell_type": "code",
   "execution_count": 1,
   "id": "db6e9126",
   "metadata": {},
   "outputs": [
    {
     "name": "stdout",
     "output_type": "stream",
     "text": [
      "0 1 2 3 4 5 6 7 8 9 10 11 12 13 14 15 16 17 18 19 "
     ]
    }
   ],
   "source": [
    "for i in range(20):   #Only start value is there\n",
    "     print(i,end=\" \")"
   ]
  },
  {
   "cell_type": "code",
   "execution_count": 2,
   "id": "e6d6cb5a",
   "metadata": {},
   "outputs": [
    {
     "name": "stdout",
     "output_type": "stream",
     "text": [
      "10 11 12 13 14 15 16 17 18 "
     ]
    }
   ],
   "source": [
    "for i in range(10,19): #Here start and end value is there\n",
    "    print(i,end=' ')"
   ]
  },
  {
   "cell_type": "markdown",
   "id": "a342da98",
   "metadata": {},
   "source": [
    "***range(start,stop,step)***\n",
    "- start=start\n",
    "- stop value depend on sign of step value\n",
    "- step sign= + incremental\n",
    "- end = stop-1\n",
    "- step sign is - decremental\n",
    "- end = stop+1\n"
   ]
  },
  {
   "cell_type": "code",
   "execution_count": 4,
   "id": "365cb579",
   "metadata": {},
   "outputs": [
    {
     "name": "stdout",
     "output_type": "stream",
     "text": [
      "5 7 9 "
     ]
    }
   ],
   "source": [
    "for i in range(5,10,2):\n",
    "    print(i,end=' ')\n",
    "#step-1 :start value==5\n",
    "#step-2 :sign===> +\n"
   ]
  },
  {
   "cell_type": "code",
   "execution_count": 6,
   "id": "b71f3310",
   "metadata": {},
   "outputs": [
    {
     "name": "stdout",
     "output_type": "stream",
     "text": [
      "-5\n",
      "-8\n",
      "-11\n",
      "-14\n",
      "-17\n"
     ]
    }
   ],
   "source": [
    "for i in range(-5,-20,-3):\n",
    "    print(i)"
   ]
  },
  {
   "cell_type": "code",
   "execution_count": 8,
   "id": "3b9d8774",
   "metadata": {},
   "outputs": [],
   "source": [
    "for i in range(5,20,-3):\n",
    "    print(i)"
   ]
  },
  {
   "cell_type": "code",
   "execution_count": 10,
   "id": "d747da61",
   "metadata": {},
   "outputs": [
    {
     "name": "stdout",
     "output_type": "stream",
     "text": [
      "10 13 16 19 22 25 28 "
     ]
    }
   ],
   "source": [
    "for i in range(10,30,3):\n",
    "    print(i,end=' ')\n",
    "#Possible"
   ]
  },
  {
   "cell_type": "code",
   "execution_count": 11,
   "id": "ef586763",
   "metadata": {},
   "outputs": [],
   "source": [
    "for i in range(10,30,-3):\n",
    "    print(i,end=' ')\n",
    "#Not possible"
   ]
  },
  {
   "cell_type": "code",
   "execution_count": 12,
   "id": "46e12c04",
   "metadata": {},
   "outputs": [
    {
     "name": "stdout",
     "output_type": "stream",
     "text": [
      "-10 -7 -4 -1 2 5 8 11 14 17 20 23 26 29 "
     ]
    }
   ],
   "source": [
    "for i in range(-10,30,3):\n",
    "    print(i,end=' ')\n",
    "#Possible"
   ]
  },
  {
   "cell_type": "code",
   "execution_count": 13,
   "id": "61d1a856",
   "metadata": {},
   "outputs": [],
   "source": [
    "for i in range(-10,30,-3):\n",
    "    print(i,end=' ')"
   ]
  },
  {
   "cell_type": "code",
   "execution_count": 15,
   "id": "2722caef",
   "metadata": {},
   "outputs": [
    {
     "name": "stdout",
     "output_type": "stream",
     "text": [
      "10 7 4 1 -2 -5 -8 -11 -14 -17 -20 -23 -26 -29 "
     ]
    }
   ],
   "source": [
    "for i in range(10,-30,-3):\n",
    "    print(i,end=' ')\n",
    "    "
   ]
  },
  {
   "cell_type": "code",
   "execution_count": 16,
   "id": "93069a16",
   "metadata": {},
   "outputs": [],
   "source": [
    "for i in range(10,-30,3):\n",
    "    print(i,end=' ')"
   ]
  },
  {
   "cell_type": "code",
   "execution_count": 17,
   "id": "cb78eedf",
   "metadata": {},
   "outputs": [
    {
     "name": "stdout",
     "output_type": "stream",
     "text": [
      "-10 -13 -16 -19 -22 -25 -28 "
     ]
    }
   ],
   "source": [
    "for i in range(-10,-30,-3):\n",
    "    print(i,end=' ')"
   ]
  },
  {
   "cell_type": "code",
   "execution_count": 18,
   "id": "ba161b07",
   "metadata": {},
   "outputs": [],
   "source": [
    "for i in range(-10,-30,3):\n",
    "    print(i,end=' ')"
   ]
  },
  {
   "cell_type": "code",
   "execution_count": 19,
   "id": "252b1ba1",
   "metadata": {},
   "outputs": [],
   "source": [
    "#WAP ask user print first 10 square numbers"
   ]
  },
  {
   "cell_type": "code",
   "execution_count": 22,
   "id": "0b7360ae",
   "metadata": {},
   "outputs": [
    {
     "name": "stdout",
     "output_type": "stream",
     "text": [
      "1\n",
      "4\n",
      "9\n",
      "16\n",
      "25\n",
      "36\n",
      "49\n",
      "64\n",
      "81\n",
      "100\n"
     ]
    }
   ],
   "source": [
    "for i in range(1,11):\n",
    "    print(i**2)"
   ]
  },
  {
   "cell_type": "code",
   "execution_count": 23,
   "id": "3f68cbbf",
   "metadata": {},
   "outputs": [],
   "source": [
    "#WAP to print 7 table"
   ]
  },
  {
   "cell_type": "code",
   "execution_count": 28,
   "id": "aabe3bdf",
   "metadata": {},
   "outputs": [
    {
     "name": "stdout",
     "output_type": "stream",
     "text": [
      "7 * 1 = 7\n",
      "7 * 2 = 14\n",
      "7 * 3 = 21\n",
      "7 * 4 = 28\n",
      "7 * 5 = 35\n",
      "7 * 6 = 42\n",
      "7 * 7 = 49\n",
      "7 * 8 = 56\n",
      "7 * 9 = 63\n",
      "7 * 10 = 70\n"
     ]
    }
   ],
   "source": [
    "for i in range(1,11):\n",
    "    print(\"7 * {} = {}\".format(i,7*i))"
   ]
  },
  {
   "cell_type": "code",
   "execution_count": 29,
   "id": "65b27708",
   "metadata": {},
   "outputs": [],
   "source": [
    "#WAP ask the user take a random number between 1 to 100\n",
    "#and print square of the number\n",
    "#and this operation do 5 times"
   ]
  },
  {
   "cell_type": "code",
   "execution_count": 50,
   "id": "72358006",
   "metadata": {},
   "outputs": [
    {
     "name": "stdout",
     "output_type": "stream",
     "text": [
      "Square of 6 is 36\n",
      "Square of 5 is 25\n",
      "Square of 3 is 9\n",
      "Square of 6 is 36\n",
      "Square of 1 is 1\n"
     ]
    }
   ],
   "source": [
    "for i in range(5):\n",
    "    import random\n",
    "    num=random.randint(1,10)\n",
    "    #sq_num=num*num\n",
    "    #sq_num\n",
    "    print(\"Square of {} is {}\".format(num,num*num))"
   ]
  },
  {
   "cell_type": "code",
   "execution_count": 1,
   "id": "eb880e14",
   "metadata": {},
   "outputs": [
    {
     "name": "stdout",
     "output_type": "stream",
     "text": [
      "Hiii\n",
      "Hiii\n",
      "Hiii\n",
      "Hiii\n",
      "Hiii\n"
     ]
    }
   ],
   "source": [
    "for i in range(5):\n",
    "    print('Hiii')"
   ]
  },
  {
   "cell_type": "code",
   "execution_count": 4,
   "id": "5a118dd8",
   "metadata": {},
   "outputs": [
    {
     "name": "stdout",
     "output_type": "stream",
     "text": [
      "40 38 36 34 32 "
     ]
    }
   ],
   "source": [
    "for i in range(40,30,-2):\n",
    "    print(i,end=' ')"
   ]
  },
  {
   "cell_type": "code",
   "execution_count": 27,
   "id": "55c88f9c",
   "metadata": {},
   "outputs": [],
   "source": [
    "# I want to run code multiple times =====> loop"
   ]
  },
  {
   "cell_type": "code",
   "execution_count": 28,
   "id": "b9ec2560",
   "metadata": {},
   "outputs": [
    {
     "name": "stdout",
     "output_type": "stream",
     "text": [
      "Hii\n",
      "Hii\n",
      "Hii\n",
      "Hii\n",
      "Hii\n"
     ]
    }
   ],
   "source": [
    "for i in range(5):\n",
    "    print('Hii')"
   ]
  },
  {
   "cell_type": "code",
   "execution_count": null,
   "id": "01f2f245",
   "metadata": {},
   "outputs": [],
   "source": [
    "#WAP print the number is even or odd number\n",
    "#The numbers you need to take 10 to 40"
   ]
  },
  {
   "cell_type": "code",
   "execution_count": 31,
   "id": "9d5ee5c8",
   "metadata": {},
   "outputs": [
    {
     "name": "stdout",
     "output_type": "stream",
     "text": [
      "10 is even number\n",
      "11 is odd number\n",
      "12 is even number\n",
      "13 is odd number\n",
      "14 is even number\n",
      "15 is odd number\n",
      "16 is even number\n",
      "17 is odd number\n",
      "18 is even number\n",
      "19 is odd number\n",
      "20 is even number\n",
      "21 is odd number\n",
      "22 is even number\n",
      "23 is odd number\n",
      "24 is even number\n",
      "25 is odd number\n",
      "26 is even number\n",
      "27 is odd number\n",
      "28 is even number\n",
      "29 is odd number\n",
      "30 is even number\n",
      "31 is odd number\n",
      "32 is even number\n",
      "33 is odd number\n",
      "34 is even number\n",
      "35 is odd number\n",
      "36 is even number\n",
      "37 is odd number\n",
      "38 is even number\n",
      "39 is odd number\n"
     ]
    }
   ],
   "source": [
    "for i in range(10,40):\n",
    "    if i%2==0:\n",
    "        print(\"{} is even number\".format(i))\n",
    "    else :\n",
    "        print(\"{} is odd number\".format(i))\n",
    "        \n",
    "        "
   ]
  },
  {
   "cell_type": "code",
   "execution_count": 35,
   "id": "b751c06c",
   "metadata": {},
   "outputs": [
    {
     "name": "stdout",
     "output_type": "stream",
     "text": [
      "10 is even number\n",
      "11 is odd number\n",
      "12 is even number\n",
      "13 is odd number\n",
      "14 is even number\n",
      "15 is odd number\n",
      "16 is even number\n",
      "17 is odd number\n",
      "18 is even number\n",
      "19 is odd number\n"
     ]
    }
   ],
   "source": [
    "try :                               #Normal method\n",
    "    for i in range(10,20):\n",
    "        if i%2==0:\n",
    "            print(\"{} is even number\".format(i))\n",
    "        else :\n",
    "            print(\"{} is odd number\".format(i))\n",
    "except Exception as e:\n",
    "      print(e)"
   ]
  },
  {
   "cell_type": "code",
   "execution_count": 33,
   "id": "a7b41a0a",
   "metadata": {},
   "outputs": [
    {
     "name": "stdout",
     "output_type": "stream",
     "text": [
      "10 is even number\n",
      "11 is odd number\n",
      "12 is even number\n",
      "13 is odd number\n",
      "14 is even number\n",
      "15 is odd number\n",
      "16 is even number\n",
      "17 is odd number\n",
      "18 is even number\n",
      "19 is odd number\n",
      "20 is even number\n",
      "21 is odd number\n",
      "22 is even number\n",
      "23 is odd number\n",
      "24 is even number\n",
      "25 is odd number\n",
      "26 is even number\n",
      "27 is odd number\n",
      "28 is even number\n",
      "29 is odd number\n",
      "30 is even number\n",
      "31 is odd number\n",
      "32 is even number\n",
      "33 is odd number\n",
      "34 is even number\n",
      "35 is odd number\n",
      "36 is even number\n",
      "37 is odd number\n",
      "38 is even number\n",
      "39 is odd number\n"
     ]
    }
   ],
   "source": [
    "def even_odd():           #Function without arguments\n",
    "    try :\n",
    "        for i in range(10,40):\n",
    "            if i%2==0:\n",
    "                print(\"{} is even number\".format(i))\n",
    "            else :\n",
    "                print(\"{} is odd number\".format(i))\n",
    "    except Exception as e :\n",
    "           print(e)\n",
    "\n",
    "even_odd()"
   ]
  },
  {
   "cell_type": "code",
   "execution_count": 38,
   "id": "6a8dbf28",
   "metadata": {},
   "outputs": [
    {
     "name": "stdout",
     "output_type": "stream",
     "text": [
      "20 is even number\n",
      "21 is odd number\n",
      "22 is even number\n",
      "23 is odd number\n",
      "24 is even number\n",
      "25 is odd number\n",
      "26 is even number\n",
      "27 is odd number\n",
      "28 is even number\n",
      "29 is odd number\n"
     ]
    }
   ],
   "source": [
    "def even_odd(n1,n2):                 #With arguments\n",
    "    try :\n",
    "        for i in range(n1,n2):\n",
    "            if i%2==0:\n",
    "                print(\"{} is even number\".format(i))\n",
    "            else :\n",
    "                print(\"{} is odd number\".format(i))\n",
    "    except Exception as e :\n",
    "           print(e)\n",
    "\n",
    "even_odd(20,30)"
   ]
  },
  {
   "cell_type": "code",
   "execution_count": 39,
   "id": "d008e8ab",
   "metadata": {},
   "outputs": [
    {
     "name": "stdout",
     "output_type": "stream",
     "text": [
      "Enter a start value10\n",
      "Enter a stop value20\n",
      "10 is even number\n",
      "11 is odd number\n",
      "12 is even number\n",
      "13 is odd number\n",
      "14 is even number\n",
      "15 is odd number\n",
      "16 is even number\n",
      "17 is odd number\n",
      "18 is even number\n",
      "19 is odd number\n"
     ]
    }
   ],
   "source": [
    "#Global variable\n",
    "start=eval(input(\"Enter a start value :\"))\n",
    "stop=eval(input(\"Enter a stop value :\"))\n",
    "def even_odd():\n",
    "    try :\n",
    "        for i in range(start,stop):\n",
    "            if i%2==0:\n",
    "                print(\"{} is even number\".format(i))\n",
    "            else :\n",
    "                print(\"{} is odd number\".format(i))\n",
    "    except Exception as e :\n",
    "           print(e)\n",
    "\n",
    "even_odd()"
   ]
  },
  {
   "cell_type": "code",
   "execution_count": 42,
   "id": "4e15c83f",
   "metadata": {},
   "outputs": [
    {
     "name": "stdout",
     "output_type": "stream",
     "text": [
      "Enter a start value :1\n",
      "Enter a stop value :10\n",
      "1 is odd number\n",
      "2 is even number\n",
      "3 is odd number\n",
      "4 is even number\n",
      "5 is odd number\n",
      "6 is even number\n",
      "7 is odd number\n",
      "8 is even number\n",
      "9 is odd number\n"
     ]
    }
   ],
   "source": [
    "#Local variable\n",
    "def even_odd():\n",
    "        start=eval(input(\"Enter a start value :\"))\n",
    "        stop=eval(input(\"Enter a stop value :\"))\n",
    "\n",
    "        try :\n",
    "            for i in range(start,stop):\n",
    "                if i%2==0:\n",
    "                    print(\"{} is even number\".format(i))\n",
    "                else :\n",
    "                    print(\"{} is odd number\".format(i))\n",
    "        except Exception as e :\n",
    "               print(e)\n",
    "            \n",
    "even_odd()"
   ]
  },
  {
   "cell_type": "code",
   "execution_count": 43,
   "id": "2b0f67c4",
   "metadata": {},
   "outputs": [
    {
     "name": "stdout",
     "output_type": "stream",
     "text": [
      "Enter a start value :10\n",
      "Enter a stop value :15\n",
      "10 is even number\n",
      "11 is odd number\n",
      "12 is even number\n",
      "13 is odd number\n",
      "14 is even number\n"
     ]
    }
   ],
   "source": [
    "#Function in function\n",
    "def get_value():\n",
    "    start=eval(input(\"Enter a start value :\"))\n",
    "    stop=eval(input(\"Enter a stop value :\"))\n",
    "    return(start,stop)\n",
    "def even_odd():\n",
    "    start,stop=get_value()\n",
    "    try :\n",
    "        for i in range(start,stop):\n",
    "            if i%2==0:\n",
    "                print(\"{} is even number\".format(i))\n",
    "            else :\n",
    "                print(\"{} is odd number\".format(i))\n",
    "    except Exception as e :\n",
    "           print(e)\n",
    "\n",
    "even_odd()"
   ]
  },
  {
   "cell_type": "code",
   "execution_count": 44,
   "id": "7c779799",
   "metadata": {},
   "outputs": [
    {
     "name": "stdout",
     "output_type": "stream",
     "text": [
      "Hi\n",
      "hello\n",
      "good\n",
      "morning\n",
      "good\n",
      "morning\n",
      "good\n",
      "morning\n",
      "Bye\n"
     ]
    }
   ],
   "source": [
    "print('Hi')\n",
    "print('hello')\n",
    "for i in range(3):\n",
    "    print('good')\n",
    "    print('morning')\n",
    "    \n",
    "print('Bye')"
   ]
  },
  {
   "cell_type": "code",
   "execution_count": null,
   "id": "f69fd6e2",
   "metadata": {},
   "outputs": [],
   "source": [
    "#WAP ask user get 10 random numbers 1 to 100\n",
    "#and print is is even or odd"
   ]
  },
  {
   "cell_type": "code",
   "execution_count": 53,
   "id": "726da68b",
   "metadata": {},
   "outputs": [
    {
     "name": "stdout",
     "output_type": "stream",
     "text": [
      "4 is even\n",
      "90 is even\n",
      "98 is even\n",
      "81 is odd\n",
      "84 is even\n",
      "79 is odd\n",
      "66 is even\n",
      "28 is even\n",
      "64 is even\n",
      "44 is even\n"
     ]
    }
   ],
   "source": [
    "import random\n",
    "for num in range(10):\n",
    "    num=random.randint(1,100)\n",
    "    if num%2==0:\n",
    "        print(\"{} is even\".format(num))\n",
    "    else :\n",
    "        print(\"{} is odd\".format(num))"
   ]
  },
  {
   "cell_type": "markdown",
   "id": "b145c0bb",
   "metadata": {},
   "source": [
    "***Guessing Game***"
   ]
  },
  {
   "cell_type": "code",
   "execution_count": 65,
   "id": "d0e283e5",
   "metadata": {},
   "outputs": [
    {
     "name": "stdout",
     "output_type": "stream",
     "text": [
      "Enter a number :20\n",
      "You lost!\n",
      "2 chances are left\n",
      "Enter a number :10\n",
      "You lost!\n",
      "1 chances are left\n",
      "Enter a number :2\n",
      "You won...!!\n"
     ]
    }
   ],
   "source": [
    "#Guessing a game\n",
    "import random\n",
    "n1=random.randint(1,10)\n",
    "#print(n1)\n",
    "for i in range(3):\n",
    "   \n",
    "    n2=eval(input(\"Enter a number :\"))\n",
    "    if n1==n2:\n",
    "        print(\"You won...!!\")\n",
    "        break #Use for stop code when u get correct answer\n",
    "    else :\n",
    "        print(\"You lost!\")\n",
    "        #print(\"{} chances are left\".format(2-i))\n"
   ]
  },
  {
   "cell_type": "code",
   "execution_count": 73,
   "id": "e5f42194",
   "metadata": {},
   "outputs": [
    {
     "name": "stdout",
     "output_type": "stream",
     "text": [
      "Enter a chances :2\n",
      "Enter a number :2\n",
      "You lost!\n",
      "1 chances are left\n",
      "Enter a number :1\n",
      "You lost!\n",
      "0 chances are left\n",
      "Enter a number :0\n",
      "You lost!\n",
      "-1 chances are left\n",
      "Your attempts are over better luck next time..!\n"
     ]
    }
   ],
   "source": [
    "import random\n",
    "n1=random.randint(1,10)\n",
    "#print(n1)\n",
    "for i in range(3):\n",
    "   \n",
    "    n2=eval(input(\"Enter a number :\"))\n",
    "    if n1==n2:\n",
    "        print(\"You won...!!\")\n",
    "        break #Use for stop code when u get correct answer\n",
    "    else :\n",
    "        print(\"You lost!\")\n",
    "        print(\"{} chances are left\".format(2-i))\n"
   ]
  },
  {
   "cell_type": "code",
   "execution_count": 75,
   "id": "d67aedf7",
   "metadata": {},
   "outputs": [
    {
     "name": "stdout",
     "output_type": "stream",
     "text": [
      "Enter a chances :2\n",
      "Enter a number :10\n",
      "You lost!\n",
      "1 chances are left\n",
      "Enter a number :2\n",
      "You lost!\n",
      "0 chances are left\n",
      "Enter a number :3\n",
      "You lost!\n",
      "-1 chances are left\n"
     ]
    }
   ],
   "source": [
    "import random\n",
    "n1=random.randint(1,10)\n",
    "a=int(input(\"Enter a chances :\"))\n",
    "#print(n1)\n",
    "for i in range(3):\n",
    "   \n",
    "    n2=eval(input(\"Enter a number :\"))\n",
    "    if n1==n2:\n",
    "        print(\"You won...!!\")\n",
    "        break #Use for stop code when u get correct answer\n",
    "    else :\n",
    "        print(\"You lost!\")\n",
    "        print(\"{} chances are left\".format(a-1-i))\n"
   ]
  },
  {
   "cell_type": "code",
   "execution_count": 82,
   "id": "f1607e13",
   "metadata": {},
   "outputs": [
    {
     "name": "stdout",
     "output_type": "stream",
     "text": [
      "Enter a chances :3\n",
      "Enter a number :10\n",
      "You lost!\n",
      "2 chances are left\n",
      "Enter a number :5\n",
      "You lost!\n",
      "1 chances are left\n",
      "Enter a number :6\n",
      "You lost!\n",
      "0 chances are left\n",
      "Your attempt is over now..\n"
     ]
    }
   ],
   "source": [
    "import random\n",
    "n1=random.randint(1,10)\n",
    "a=int(input(\"Enter a chances :\"))\n",
    "for i in range(3):\n",
    "    n2=eval(input(\"Enter a number :\"))\n",
    "    if n1==n2:\n",
    "        print(\"You won...!!\")\n",
    "        break   #Use for stop code when u get correct answer\n",
    "    else :\n",
    "        print(\"You lost!\")\n",
    "        print(\"{} chances are left\".format(a-1-i))\n",
    "    if a-1-i==0:\n",
    "        print(\"Your attempt is over now..\")\n"
   ]
  },
  {
   "cell_type": "code",
   "execution_count": 7,
   "id": "70eab243",
   "metadata": {},
   "outputs": [
    {
     "name": "stdout",
     "output_type": "stream",
     "text": [
      "55\n"
     ]
    }
   ],
   "source": [
    "sum1=0\n",
    "for i in range(1,11):\n",
    "    sum1=sum1 +i\n",
    "    \n",
    "print(sum1)\n",
    "#step-1 sum1=0 i=1 new sum1=0+1=1\n",
    "#step-2 sum1=1 i=2 new sum1=1+2=3\n",
    "#step-3 sum1=3 i=3 new sum1=3+3=6\n",
    "#step-4 sum1=6 i=4 new sum1=6+4=10\n",
    "#step-5 sum1=10 i=5 new sum1=10+5=15"
   ]
  },
  {
   "cell_type": "markdown",
   "id": "d39ffeee",
   "metadata": {},
   "source": [
    "***Counter program***"
   ]
  },
  {
   "cell_type": "code",
   "execution_count": 8,
   "id": "f731d59d",
   "metadata": {},
   "outputs": [],
   "source": [
    "#wap ask the user to find the number is an even number\n",
    "#odd number between 1 to 100\n",
    "#this time count the number of even numbers and odd numbers"
   ]
  },
  {
   "cell_type": "code",
   "execution_count": 15,
   "id": "94afbec8",
   "metadata": {},
   "outputs": [
    {
     "name": "stdout",
     "output_type": "stream",
     "text": [
      "the total number of even numbers are 49\n",
      "the total number of odd numbers are 50\n"
     ]
    }
   ],
   "source": [
    "e=0     #initialisation\n",
    "o=0     \n",
    "for i in range(1,100):\n",
    "    if i%2==0:\n",
    "        e=e+1\n",
    "    else :\n",
    "        o=o+1 \n",
    "print(\"the total number of even numbers are\",e)\n",
    "print(\"the total number of odd numbers are\",o)\n"
   ]
  },
  {
   "cell_type": "code",
   "execution_count": null,
   "id": "9b3444c8",
   "metadata": {},
   "outputs": [],
   "source": [
    "#wap ask get a 20 random numbers between 1 to 100\n",
    "#count the number of values which are between 50 and\n",
    "#90"
   ]
  },
  {
   "cell_type": "code",
   "execution_count": 41,
   "id": "0b6de217",
   "metadata": {},
   "outputs": [
    {
     "name": "stdout",
     "output_type": "stream",
     "text": [
      "The numbers are between 50 to 90 are : 8\n",
      "The numbers are less than 50 : 11\n"
     ]
    }
   ],
   "source": [
    "import random\n",
    "count=0\n",
    "count1=0\n",
    "for i in range(20):\n",
    "        n=random.randint(1,100)\n",
    "        if n>50 and n<90:\n",
    "                count=count+1\n",
    "        elif n<50:\n",
    "                count1=count1+1\n",
    "            \n",
    "print(\"The numbers are between 50 to 90 are :\",count)\n",
    "print(\"The numbers are less than 50 :\",count1)"
   ]
  },
  {
   "cell_type": "markdown",
   "id": "30c710ab",
   "metadata": {},
   "source": [
    "$IN$ $Operator$"
   ]
  },
  {
   "cell_type": "code",
   "execution_count": 42,
   "id": "81c45a0e",
   "metadata": {},
   "outputs": [
    {
     "data": {
      "text/plain": [
       "True"
      ]
     },
     "execution_count": 42,
     "metadata": {},
     "output_type": "execute_result"
    }
   ],
   "source": [
    "'b' in 'banana'"
   ]
  },
  {
   "cell_type": "code",
   "execution_count": 45,
   "id": "c774264c",
   "metadata": {},
   "outputs": [
    {
     "data": {
      "text/plain": [
       "False"
      ]
     },
     "execution_count": 45,
     "metadata": {},
     "output_type": "execute_result"
    }
   ],
   "source": [
    "name='True'\n",
    "'t'in name #False\n",
    "'T'in name #True"
   ]
  },
  {
   "cell_type": "code",
   "execution_count": 46,
   "id": "cf14f1ce",
   "metadata": {},
   "outputs": [
    {
     "data": {
      "text/plain": [
       "True"
      ]
     },
     "execution_count": 46,
     "metadata": {},
     "output_type": "execute_result"
    }
   ],
   "source": [
    "'ru' in name"
   ]
  },
  {
   "cell_type": "code",
   "execution_count": 47,
   "id": "59467944",
   "metadata": {},
   "outputs": [
    {
     "data": {
      "text/plain": [
       "False"
      ]
     },
     "execution_count": 47,
     "metadata": {},
     "output_type": "execute_result"
    }
   ],
   "source": [
    "'re' in name"
   ]
  },
  {
   "cell_type": "code",
   "execution_count": null,
   "id": "f28446b7",
   "metadata": {},
   "outputs": [],
   "source": [
    "#generealised expression :what is common and what is\n",
    "#varying,it is only for strings\n",
    "#range=======numbers\n",
    "#in=========strings\n",
    "#eval=======numbers\n",
    "#input======strings"
   ]
  },
  {
   "cell_type": "code",
   "execution_count": 48,
   "id": "430c3612",
   "metadata": {},
   "outputs": [
    {
     "name": "stdout",
     "output_type": "stream",
     "text": [
      "p\n",
      "y\n",
      "t\n",
      "h\n",
      "o\n",
      "n\n"
     ]
    }
   ],
   "source": [
    "name='python'\n",
    "for i in name:\n",
    "    print(i)"
   ]
  },
  {
   "cell_type": "code",
   "execution_count": null,
   "id": "e1508895",
   "metadata": {},
   "outputs": [],
   "source": [
    "#wap ask user enter a your name\n",
    "#count the number of letters\n",
    "#if count >5:print(you have big name)\n",
    "#else:print(you have small name)"
   ]
  },
  {
   "cell_type": "code",
   "execution_count": 56,
   "id": "82bdf557",
   "metadata": {},
   "outputs": [
    {
     "name": "stdout",
     "output_type": "stream",
     "text": [
      "Enter a name :lapapa\n",
      "It is big name\n"
     ]
    }
   ],
   "source": [
    "name=(input(\"Enter a name :\"))\n",
    "count=0\n",
    "for i in name:\n",
    "    count=count+1\n",
    "if count>5:print(\"It is big name\")\n",
    "else:print(\"It is small name\")\n",
    "#You can write this also no identation required"
   ]
  },
  {
   "cell_type": "code",
   "execution_count": null,
   "id": "33f5feea",
   "metadata": {},
   "outputs": [],
   "source": [
    "#wap ask the user enter your name\n",
    "#iterate your name with loop\n",
    "#print how many letters 'a' in your name"
   ]
  },
  {
   "cell_type": "code",
   "execution_count": 63,
   "id": "d091a93e",
   "metadata": {},
   "outputs": [
    {
     "name": "stdout",
     "output_type": "stream",
     "text": [
      "Enter a name :saurabh\n",
      "a in your name is 2\n"
     ]
    }
   ],
   "source": [
    "name=input(\"Enter a name :\")\n",
    "count=0\n",
    "for i in name:\n",
    "        if i =='a':\n",
    "            count=count+1\n",
    "    \n",
    "print(\"a in your name is\",count)"
   ]
  },
  {
   "cell_type": "code",
   "execution_count": null,
   "id": "ad31ba3d",
   "metadata": {},
   "outputs": [],
   "source": []
  }
 ],
 "metadata": {
  "kernelspec": {
   "display_name": "Python 3 (ipykernel)",
   "language": "python",
   "name": "python3"
  },
  "language_info": {
   "codemirror_mode": {
    "name": "ipython",
    "version": 3
   },
   "file_extension": ".py",
   "mimetype": "text/x-python",
   "name": "python",
   "nbconvert_exporter": "python",
   "pygments_lexer": "ipython3",
   "version": "3.11.5"
  }
 },
 "nbformat": 4,
 "nbformat_minor": 5
}
